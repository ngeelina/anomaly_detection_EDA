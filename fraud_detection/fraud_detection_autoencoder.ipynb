{
 "cells": [
  {
   "cell_type": "code",
   "execution_count": 1,
   "metadata": {},
   "outputs": [],
   "source": [
    "# import packages\n",
    "import pandas as pd\n",
    "import numpy as np"
   ]
  },
  {
   "cell_type": "code",
   "execution_count": 2,
   "metadata": {},
   "outputs": [
    {
     "data": {
      "text/html": [
       "<div>\n",
       "<style scoped>\n",
       "    .dataframe tbody tr th:only-of-type {\n",
       "        vertical-align: middle;\n",
       "    }\n",
       "\n",
       "    .dataframe tbody tr th {\n",
       "        vertical-align: top;\n",
       "    }\n",
       "\n",
       "    .dataframe thead th {\n",
       "        text-align: right;\n",
       "    }\n",
       "</style>\n",
       "<table border=\"1\" class=\"dataframe\">\n",
       "  <thead>\n",
       "    <tr style=\"text-align: right;\">\n",
       "      <th></th>\n",
       "      <th>Time</th>\n",
       "      <th>V1</th>\n",
       "      <th>V2</th>\n",
       "      <th>V3</th>\n",
       "      <th>V4</th>\n",
       "      <th>V5</th>\n",
       "      <th>V6</th>\n",
       "      <th>V7</th>\n",
       "      <th>V8</th>\n",
       "      <th>V9</th>\n",
       "      <th>...</th>\n",
       "      <th>V21</th>\n",
       "      <th>V22</th>\n",
       "      <th>V23</th>\n",
       "      <th>V24</th>\n",
       "      <th>V25</th>\n",
       "      <th>V26</th>\n",
       "      <th>V27</th>\n",
       "      <th>V28</th>\n",
       "      <th>Amount</th>\n",
       "      <th>Class</th>\n",
       "    </tr>\n",
       "  </thead>\n",
       "  <tbody>\n",
       "    <tr>\n",
       "      <th>0</th>\n",
       "      <td>0.0</td>\n",
       "      <td>-1.359807</td>\n",
       "      <td>-0.072781</td>\n",
       "      <td>2.536347</td>\n",
       "      <td>1.378155</td>\n",
       "      <td>-0.338321</td>\n",
       "      <td>0.462388</td>\n",
       "      <td>0.239599</td>\n",
       "      <td>0.098698</td>\n",
       "      <td>0.363787</td>\n",
       "      <td>...</td>\n",
       "      <td>-0.018307</td>\n",
       "      <td>0.277838</td>\n",
       "      <td>-0.110474</td>\n",
       "      <td>0.066928</td>\n",
       "      <td>0.128539</td>\n",
       "      <td>-0.189115</td>\n",
       "      <td>0.133558</td>\n",
       "      <td>-0.021053</td>\n",
       "      <td>149.62</td>\n",
       "      <td>0</td>\n",
       "    </tr>\n",
       "    <tr>\n",
       "      <th>1</th>\n",
       "      <td>0.0</td>\n",
       "      <td>1.191857</td>\n",
       "      <td>0.266151</td>\n",
       "      <td>0.166480</td>\n",
       "      <td>0.448154</td>\n",
       "      <td>0.060018</td>\n",
       "      <td>-0.082361</td>\n",
       "      <td>-0.078803</td>\n",
       "      <td>0.085102</td>\n",
       "      <td>-0.255425</td>\n",
       "      <td>...</td>\n",
       "      <td>-0.225775</td>\n",
       "      <td>-0.638672</td>\n",
       "      <td>0.101288</td>\n",
       "      <td>-0.339846</td>\n",
       "      <td>0.167170</td>\n",
       "      <td>0.125895</td>\n",
       "      <td>-0.008983</td>\n",
       "      <td>0.014724</td>\n",
       "      <td>2.69</td>\n",
       "      <td>0</td>\n",
       "    </tr>\n",
       "    <tr>\n",
       "      <th>2</th>\n",
       "      <td>1.0</td>\n",
       "      <td>-1.358354</td>\n",
       "      <td>-1.340163</td>\n",
       "      <td>1.773209</td>\n",
       "      <td>0.379780</td>\n",
       "      <td>-0.503198</td>\n",
       "      <td>1.800499</td>\n",
       "      <td>0.791461</td>\n",
       "      <td>0.247676</td>\n",
       "      <td>-1.514654</td>\n",
       "      <td>...</td>\n",
       "      <td>0.247998</td>\n",
       "      <td>0.771679</td>\n",
       "      <td>0.909412</td>\n",
       "      <td>-0.689281</td>\n",
       "      <td>-0.327642</td>\n",
       "      <td>-0.139097</td>\n",
       "      <td>-0.055353</td>\n",
       "      <td>-0.059752</td>\n",
       "      <td>378.66</td>\n",
       "      <td>0</td>\n",
       "    </tr>\n",
       "    <tr>\n",
       "      <th>3</th>\n",
       "      <td>1.0</td>\n",
       "      <td>-0.966272</td>\n",
       "      <td>-0.185226</td>\n",
       "      <td>1.792993</td>\n",
       "      <td>-0.863291</td>\n",
       "      <td>-0.010309</td>\n",
       "      <td>1.247203</td>\n",
       "      <td>0.237609</td>\n",
       "      <td>0.377436</td>\n",
       "      <td>-1.387024</td>\n",
       "      <td>...</td>\n",
       "      <td>-0.108300</td>\n",
       "      <td>0.005274</td>\n",
       "      <td>-0.190321</td>\n",
       "      <td>-1.175575</td>\n",
       "      <td>0.647376</td>\n",
       "      <td>-0.221929</td>\n",
       "      <td>0.062723</td>\n",
       "      <td>0.061458</td>\n",
       "      <td>123.50</td>\n",
       "      <td>0</td>\n",
       "    </tr>\n",
       "    <tr>\n",
       "      <th>4</th>\n",
       "      <td>2.0</td>\n",
       "      <td>-1.158233</td>\n",
       "      <td>0.877737</td>\n",
       "      <td>1.548718</td>\n",
       "      <td>0.403034</td>\n",
       "      <td>-0.407193</td>\n",
       "      <td>0.095921</td>\n",
       "      <td>0.592941</td>\n",
       "      <td>-0.270533</td>\n",
       "      <td>0.817739</td>\n",
       "      <td>...</td>\n",
       "      <td>-0.009431</td>\n",
       "      <td>0.798278</td>\n",
       "      <td>-0.137458</td>\n",
       "      <td>0.141267</td>\n",
       "      <td>-0.206010</td>\n",
       "      <td>0.502292</td>\n",
       "      <td>0.219422</td>\n",
       "      <td>0.215153</td>\n",
       "      <td>69.99</td>\n",
       "      <td>0</td>\n",
       "    </tr>\n",
       "  </tbody>\n",
       "</table>\n",
       "<p>5 rows × 31 columns</p>\n",
       "</div>"
      ],
      "text/plain": [
       "   Time        V1        V2        V3        V4        V5        V6        V7  \\\n",
       "0   0.0 -1.359807 -0.072781  2.536347  1.378155 -0.338321  0.462388  0.239599   \n",
       "1   0.0  1.191857  0.266151  0.166480  0.448154  0.060018 -0.082361 -0.078803   \n",
       "2   1.0 -1.358354 -1.340163  1.773209  0.379780 -0.503198  1.800499  0.791461   \n",
       "3   1.0 -0.966272 -0.185226  1.792993 -0.863291 -0.010309  1.247203  0.237609   \n",
       "4   2.0 -1.158233  0.877737  1.548718  0.403034 -0.407193  0.095921  0.592941   \n",
       "\n",
       "         V8        V9  ...       V21       V22       V23       V24       V25  \\\n",
       "0  0.098698  0.363787  ... -0.018307  0.277838 -0.110474  0.066928  0.128539   \n",
       "1  0.085102 -0.255425  ... -0.225775 -0.638672  0.101288 -0.339846  0.167170   \n",
       "2  0.247676 -1.514654  ...  0.247998  0.771679  0.909412 -0.689281 -0.327642   \n",
       "3  0.377436 -1.387024  ... -0.108300  0.005274 -0.190321 -1.175575  0.647376   \n",
       "4 -0.270533  0.817739  ... -0.009431  0.798278 -0.137458  0.141267 -0.206010   \n",
       "\n",
       "        V26       V27       V28  Amount  Class  \n",
       "0 -0.189115  0.133558 -0.021053  149.62      0  \n",
       "1  0.125895 -0.008983  0.014724    2.69      0  \n",
       "2 -0.139097 -0.055353 -0.059752  378.66      0  \n",
       "3 -0.221929  0.062723  0.061458  123.50      0  \n",
       "4  0.502292  0.219422  0.215153   69.99      0  \n",
       "\n",
       "[5 rows x 31 columns]"
      ]
     },
     "execution_count": 2,
     "metadata": {},
     "output_type": "execute_result"
    }
   ],
   "source": [
    "credit_card_df = pd.read_csv('creditcard.csv') # read data from the csv file\n",
    "credit_card_df.head()"
   ]
  },
  {
   "cell_type": "markdown",
   "metadata": {},
   "source": [
    "### Normalize and Scale data\n",
    "#### Scale the data to similar magnitude "
   ]
  },
  {
   "cell_type": "code",
   "execution_count": 3,
   "metadata": {},
   "outputs": [],
   "source": [
    "from sklearn.preprocessing import StandardScaler\n",
    "\n",
    "credit_card_df_norm = credit_card_df\n",
    "credit_card_df_norm['Time'] = StandardScaler().fit_transform(credit_card_df_norm['Time'].values.reshape(-1, 1))\n",
    "credit_card_df_norm['Amount'] = StandardScaler().fit_transform(credit_card_df_norm['Amount'].values.reshape(-1, 1))"
   ]
  },
  {
   "cell_type": "markdown",
   "metadata": {},
   "source": [
    "### Train-Test split\n",
    "#### The dataset is splitted to 80% traning data and 20% testing data. Random seed is used in order to produce the same data sets."
   ]
  },
  {
   "cell_type": "code",
   "execution_count": 4,
   "metadata": {},
   "outputs": [],
   "source": [
    "from sklearn.model_selection import train_test_split\n",
    "\n",
    "RANDOM_SEED = 42 \n",
    "TEST_PCT = 0.2\n",
    "\n",
    "X_train, X_test = train_test_split(credit_card_df_norm, test_size=TEST_PCT, random_state=RANDOM_SEED)\n",
    "X_train = X_train[X_train.Class == 0] # normal transactions\n",
    "X_train = X_train.drop(['Class'], axis=1) #drop the class column\n",
    "\n",
    "\n",
    "Y_test = X_test['Class'] #save the class column for the test set\n",
    "X_test = X_test.drop(['Class'], axis=1) #drop the class column\n",
    "\n",
    "X_train = X_train.values #transform to ndarray\n",
    "X_test = X_test.values"
   ]
  },
  {
   "cell_type": "markdown",
   "metadata": {},
   "source": [
    "### Autoencoder model"
   ]
  },
  {
   "cell_type": "code",
   "execution_count": 5,
   "metadata": {},
   "outputs": [
    {
     "name": "stderr",
     "output_type": "stream",
     "text": [
      "Using TensorFlow backend.\n"
     ]
    }
   ],
   "source": [
    "from keras.models import Model, load_model\n",
    "from keras.layers import Input, Dense\n",
    "from keras.callbacks import ModelCheckpoint\n",
    "from keras import regularizers\n",
    "\n",
    "nb_epoch = 50\n",
    "batch_size = 64\n",
    "input_dim = X_train.shape[1] \n",
    "encoding_dim = 14\n",
    "hidden_dim = int(encoding_dim / 2)\n",
    "learning_rate = 1e-7\n",
    "\n",
    "input_layer = Input(shape=(input_dim, ))\n",
    "encoder = Dense(encoding_dim, activation=\"tanh\", activity_regularizer=regularizers.l1(learning_rate))(input_layer)\n",
    "encoder = Dense(hidden_dim, activation=\"relu\")(encoder)\n",
    "decoder = Dense(hidden_dim, activation='tanh')(encoder)\n",
    "decoder = Dense(input_dim, activation='relu')(decoder)\n",
    "autoencoder = Model(inputs=input_layer, outputs=decoder)"
   ]
  },
  {
   "cell_type": "code",
   "execution_count": 6,
   "metadata": {},
   "outputs": [
    {
     "name": "stdout",
     "output_type": "stream",
     "text": [
      "Train on 227451 samples, validate on 56962 samples\n",
      "Epoch 1/50\n",
      "227451/227451 [==============================] - 20s 88us/step - loss: 0.8363 - acc: 0.5271 - val_loss: 0.8062 - val_acc: 0.6283\n",
      "Epoch 2/50\n",
      "227451/227451 [==============================] - 19s 82us/step - loss: 0.7681 - acc: 0.6345 - val_loss: 0.7873 - val_acc: 0.6514\n",
      "Epoch 3/50\n",
      "227451/227451 [==============================] - 18s 78us/step - loss: 0.7463 - acc: 0.6576 - val_loss: 0.7678 - val_acc: 0.6638\n",
      "Epoch 4/50\n",
      "227451/227451 [==============================] - 17s 76us/step - loss: 0.7354 - acc: 0.6701 - val_loss: 0.7608 - val_acc: 0.6816\n",
      "Epoch 5/50\n",
      "227451/227451 [==============================] - 17s 76us/step - loss: 0.7294 - acc: 0.6844 - val_loss: 0.7562 - val_acc: 0.6910\n",
      "Epoch 6/50\n",
      "227451/227451 [==============================] - 18s 77us/step - loss: 0.7252 - acc: 0.6958 - val_loss: 0.7531 - val_acc: 0.7034\n",
      "Epoch 7/50\n",
      "227451/227451 [==============================] - 17s 74us/step - loss: 0.7219 - acc: 0.7046 - val_loss: 0.7503 - val_acc: 0.7126\n",
      "Epoch 8/50\n",
      "227451/227451 [==============================] - 18s 78us/step - loss: 0.7199 - acc: 0.7101 - val_loss: 0.7483 - val_acc: 0.7167\n",
      "Epoch 9/50\n",
      "227451/227451 [==============================] - 18s 80us/step - loss: 0.7182 - acc: 0.7129 - val_loss: 0.7477 - val_acc: 0.7114\n",
      "Epoch 10/50\n",
      "227451/227451 [==============================] - 17s 77us/step - loss: 0.7169 - acc: 0.7141 - val_loss: 0.7463 - val_acc: 0.7182\n",
      "Epoch 11/50\n",
      "227451/227451 [==============================] - 18s 78us/step - loss: 0.7160 - acc: 0.7151 - val_loss: 0.7457 - val_acc: 0.7210\n",
      "Epoch 12/50\n",
      "227451/227451 [==============================] - 17s 75us/step - loss: 0.7149 - acc: 0.7172 - val_loss: 0.7478 - val_acc: 0.7124\n",
      "Epoch 13/50\n",
      "227451/227451 [==============================] - 17s 75us/step - loss: 0.7140 - acc: 0.7191 - val_loss: 0.7462 - val_acc: 0.7232\n",
      "Epoch 14/50\n",
      "227451/227451 [==============================] - 17s 74us/step - loss: 0.7135 - acc: 0.7198 - val_loss: 0.7439 - val_acc: 0.7224\n",
      "Epoch 15/50\n",
      "227451/227451 [==============================] - 16s 72us/step - loss: 0.7134 - acc: 0.7197 - val_loss: 0.7484 - val_acc: 0.7153\n",
      "Epoch 16/50\n",
      "227451/227451 [==============================] - 16s 71us/step - loss: 0.7129 - acc: 0.7201 - val_loss: 0.7454 - val_acc: 0.7221\n",
      "Epoch 17/50\n",
      "227451/227451 [==============================] - 16s 71us/step - loss: 0.7127 - acc: 0.7213 - val_loss: 0.7433 - val_acc: 0.7222\n",
      "Epoch 18/50\n",
      "227451/227451 [==============================] - 16s 70us/step - loss: 0.7128 - acc: 0.7210 - val_loss: 0.7447 - val_acc: 0.7192\n",
      "Epoch 19/50\n",
      "227451/227451 [==============================] - 16s 72us/step - loss: 0.7121 - acc: 0.7211 - val_loss: 0.7429 - val_acc: 0.7217\n",
      "Epoch 20/50\n",
      "227451/227451 [==============================] - 17s 74us/step - loss: 0.7122 - acc: 0.7213 - val_loss: 0.7437 - val_acc: 0.7219\n",
      "Epoch 21/50\n",
      "227451/227451 [==============================] - 16s 73us/step - loss: 0.7121 - acc: 0.7215 - val_loss: 0.7435 - val_acc: 0.7229\n",
      "Epoch 22/50\n",
      "227451/227451 [==============================] - 16s 72us/step - loss: 0.7119 - acc: 0.7222 - val_loss: 0.7430 - val_acc: 0.7244\n",
      "Epoch 23/50\n",
      "227451/227451 [==============================] - 16s 71us/step - loss: 0.7116 - acc: 0.7220 - val_loss: 0.7442 - val_acc: 0.7233\n",
      "Epoch 24/50\n",
      "227451/227451 [==============================] - 16s 69us/step - loss: 0.7116 - acc: 0.7208 - val_loss: 0.7441 - val_acc: 0.7269\n",
      "Epoch 25/50\n",
      "227451/227451 [==============================] - 16s 70us/step - loss: 0.7118 - acc: 0.7223 - val_loss: 0.7443 - val_acc: 0.7224\n",
      "Epoch 26/50\n",
      "227451/227451 [==============================] - 16s 72us/step - loss: 0.7115 - acc: 0.7218 - val_loss: 0.7426 - val_acc: 0.7299\n",
      "Epoch 27/50\n",
      "227451/227451 [==============================] - 17s 74us/step - loss: 0.7114 - acc: 0.7215 - val_loss: 0.7427 - val_acc: 0.7222\n",
      "Epoch 28/50\n",
      "227451/227451 [==============================] - 15s 64us/step - loss: 0.7113 - acc: 0.7205 - val_loss: 0.7423 - val_acc: 0.7218\n",
      "Epoch 29/50\n",
      "227451/227451 [==============================] - 17s 73us/step - loss: 0.7107 - acc: 0.7207 - val_loss: 0.7437 - val_acc: 0.7207\n",
      "Epoch 30/50\n",
      "227451/227451 [==============================] - 16s 71us/step - loss: 0.7107 - acc: 0.7203 - val_loss: 0.7421 - val_acc: 0.7233\n",
      "Epoch 31/50\n",
      "227451/227451 [==============================] - 15s 67us/step - loss: 0.7107 - acc: 0.7203 - val_loss: 0.7431 - val_acc: 0.7220\n",
      "Epoch 32/50\n",
      "227451/227451 [==============================] - 15s 66us/step - loss: 0.7104 - acc: 0.7199 - val_loss: 0.7436 - val_acc: 0.7172\n",
      "Epoch 33/50\n",
      "227451/227451 [==============================] - 16s 71us/step - loss: 0.7102 - acc: 0.7208 - val_loss: 0.7425 - val_acc: 0.7181\n",
      "Epoch 34/50\n",
      "227451/227451 [==============================] - 17s 73us/step - loss: 0.7101 - acc: 0.7201 - val_loss: 0.7437 - val_acc: 0.7214\n",
      "Epoch 35/50\n",
      "227451/227451 [==============================] - 17s 73us/step - loss: 0.7100 - acc: 0.7212 - val_loss: 0.7420 - val_acc: 0.7256\n",
      "Epoch 36/50\n",
      "227451/227451 [==============================] - 16s 71us/step - loss: 0.7101 - acc: 0.7199 - val_loss: 0.7421 - val_acc: 0.7218\n",
      "Epoch 37/50\n",
      "227451/227451 [==============================] - 16s 71us/step - loss: 0.7101 - acc: 0.7200 - val_loss: 0.7416 - val_acc: 0.7246\n",
      "Epoch 38/50\n",
      "227451/227451 [==============================] - 17s 75us/step - loss: 0.7094 - acc: 0.7210 - val_loss: 0.7442 - val_acc: 0.7214\n",
      "Epoch 39/50\n",
      "227451/227451 [==============================] - 16s 71us/step - loss: 0.7096 - acc: 0.7214 - val_loss: 0.7413 - val_acc: 0.7253\n",
      "Epoch 40/50\n",
      "227451/227451 [==============================] - 16s 72us/step - loss: 0.7098 - acc: 0.7209 - val_loss: 0.7412 - val_acc: 0.7235\n",
      "Epoch 41/50\n",
      "227451/227451 [==============================] - 17s 74us/step - loss: 0.7093 - acc: 0.7206 - val_loss: 0.7427 - val_acc: 0.7174\n",
      "Epoch 42/50\n",
      "227451/227451 [==============================] - 17s 73us/step - loss: 0.7092 - acc: 0.7202 - val_loss: 0.7420 - val_acc: 0.7213\n",
      "Epoch 43/50\n",
      "227451/227451 [==============================] - 16s 72us/step - loss: 0.7092 - acc: 0.7207 - val_loss: 0.7422 - val_acc: 0.7239\n",
      "Epoch 44/50\n",
      "227451/227451 [==============================] - 16s 72us/step - loss: 0.7091 - acc: 0.7208 - val_loss: 0.7431 - val_acc: 0.7178\n",
      "Epoch 45/50\n",
      "227451/227451 [==============================] - 17s 74us/step - loss: 0.7091 - acc: 0.7200 - val_loss: 0.7417 - val_acc: 0.7234\n",
      "Epoch 46/50\n",
      "227451/227451 [==============================] - 16s 71us/step - loss: 0.7087 - acc: 0.7203 - val_loss: 0.7408 - val_acc: 0.7230\n",
      "Epoch 47/50\n",
      "227451/227451 [==============================] - 16s 70us/step - loss: 0.7092 - acc: 0.7202 - val_loss: 0.7410 - val_acc: 0.7213\n",
      "Epoch 48/50\n",
      "227451/227451 [==============================] - 15s 68us/step - loss: 0.7087 - acc: 0.7206 - val_loss: 0.7425 - val_acc: 0.7242\n",
      "Epoch 49/50\n",
      "227451/227451 [==============================] - 16s 70us/step - loss: 0.7087 - acc: 0.7203 - val_loss: 0.7420 - val_acc: 0.7212\n",
      "Epoch 50/50\n",
      "227451/227451 [==============================] - 16s 71us/step - loss: 0.7087 - acc: 0.7198 - val_loss: 0.7408 - val_acc: 0.7223\n"
     ]
    }
   ],
   "source": [
    "autoencoder.compile(metrics=['accuracy'], loss='mean_squared_error', optimizer='adam')\n",
    "\n",
    "cp = ModelCheckpoint(filepath=\"fraud_detection_autoencoder.h5\", save_best_only=True, verbose=0)\n",
    "\n",
    "history = autoencoder.fit(X_train, X_train, epochs=nb_epoch, batch_size=batch_size, shuffle=True, \n",
    "                          validation_data=(X_test, X_test), verbose=1, callbacks=[cp]).history"
   ]
  },
  {
   "cell_type": "markdown",
   "metadata": {},
   "source": [
    "### Evaluation and Plots"
   ]
  },
  {
   "cell_type": "code",
   "execution_count": 7,
   "metadata": {},
   "outputs": [
    {
     "data": {
      "text/plain": [
       "<Figure size 640x480 with 1 Axes>"
      ]
     },
     "metadata": {},
     "output_type": "display_data"
    }
   ],
   "source": [
    "import matplotlib.pyplot as plt\n",
    "\n",
    "plt.plot(history['loss'], linewidth=2, label='Train')\n",
    "plt.plot(history['val_loss'], linewidth=2, label='Test')\n",
    "plt.legend(loc='upper right')\n",
    "plt.title('Model loss')\n",
    "plt.ylabel('Loss')\n",
    "plt.xlabel('Epoch')\n",
    "plt.show()"
   ]
  },
  {
   "cell_type": "code",
   "execution_count": 8,
   "metadata": {},
   "outputs": [],
   "source": [
    "X_test_predictions = autoencoder.predict(X_test)\n",
    "mse = np.mean(np.power(X_test - X_test_predictions, 2), axis=1)\n",
    "error_df = pd.DataFrame({'Reconstruction_error': mse,\n",
    "                        'True_class': Y_test})"
   ]
  },
  {
   "cell_type": "code",
   "execution_count": 9,
   "metadata": {},
   "outputs": [
    {
     "data": {
      "image/png": "[encoded data removed]",
      "text/plain": [
       "<Figure size 432x288 with 1 Axes>"
      ]
     },
     "metadata": {
      "needs_background": "light"
     },
     "output_type": "display_data"
    }
   ],
   "source": [
    "from sklearn.metrics import precision_recall_curve\n",
    "\n",
    "precision_rt, recall_rt, threshold_rt = precision_recall_curve(error_df.True_class, error_df.Reconstruction_error)\n",
    "plt.plot(recall_rt, precision_rt, linewidth=5, label='Precision-Recall curve')\n",
    "plt.title('Recall vs Precision')\n",
    "plt.xlabel('Recall')\n",
    "plt.ylabel('Precision')\n",
    "plt.show()\n"
   ]
  },
  {
   "cell_type": "markdown",
   "metadata": {},
   "source": [
    "#### While taking recall and precision into account, there is always a tradeoff if we want to miss a fraud data or flag a normal data as a fraudulent one."
   ]
  },
  {
   "cell_type": "code",
   "execution_count": null,
   "metadata": {},
   "outputs": [],
   "source": []
  }
 ],
 "metadata": {
  "kernelspec": {
   "display_name": "Python 3",
   "language": "python",
   "name": "python3"
  },
  "language_info": {
   "codemirror_mode": {
    "name": "ipython",
    "version": 3
   },
   "file_extension": ".py",
   "mimetype": "text/x-python",
   "name": "python",
   "nbconvert_exporter": "python",
   "pygments_lexer": "ipython3",
   "version": "3.6.8"
  }
 },
 "nbformat": 4,
 "nbformat_minor": 2
}
